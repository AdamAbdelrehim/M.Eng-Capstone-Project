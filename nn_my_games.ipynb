{
  "nbformat": 4,
  "nbformat_minor": 0,
  "metadata": {
    "colab": {
      "provenance": []
    },
    "kernelspec": {
      "name": "python3",
      "display_name": "Python 3"
    },
    "language_info": {
      "name": "python"
    }
  },
  "cells": [
    {
      "cell_type": "code",
      "execution_count": null,
      "metadata": {
        "id": "wHr7K_RAgHGo"
      },
      "outputs": [],
      "source": [
        "import os\n",
        "\n",
        "dataset = [file for file in os.listdir(\"/Users/adama/Documents/Chess_AI/Dataset_2\")] # Dataset containing my own games"
      ]
    },
    {
      "cell_type": "code",
      "source": [
        "from chess import pgn\n",
        "\n",
        "def load_pgn(file_path):\n",
        "    games = []\n",
        "    with open(file_path, 'r') as pgn_file:\n",
        "        while True:\n",
        "            game = pgn.read_game(pgn_file)\n",
        "            if game is None:\n",
        "                break\n",
        "            games.append(game)\n",
        "    return games"
      ],
      "metadata": {
        "id": "4VtLLIOPgT0T"
      },
      "execution_count": null,
      "outputs": []
    },
    {
      "cell_type": "code",
      "source": [
        "for file in files:\n",
        "    games.extend(load_pgn(f\"/Users/adama/Documents/Chess_AI/Dataset_2/{file}\"))"
      ],
      "metadata": {
        "id": "eeZVGsh6gXgE"
      },
      "execution_count": null,
      "outputs": []
    },
    {
      "cell_type": "code",
      "source": [
        "import numpy as np\n",
        "from chess import Board\n",
        "from tensorflow.keras.utils import to_categorical\n",
        "from tensorflow.keras.models import Sequential\n",
        "from tensorflow.keras.layers import Conv2D, Flatten, Dense\n",
        "from tensorflow.keras.optimizers import Adam\n",
        "import time"
      ],
      "metadata": {
        "id": "83TYV8X0gX82"
      },
      "execution_count": null,
      "outputs": []
    },
    {
      "cell_type": "code",
      "source": [
        "def board_to_matrix(board: Board):\n",
        "    matrix = np.zeros((8, 8, 12))\n",
        "    piece_map = board.piece_map()\n",
        "    for square, piece in piece_map.items():\n",
        "        row, col = divmod(square, 8)\n",
        "        piece_type = piece.piece_type - 1\n",
        "        piece_color = 0 if piece.color else 6\n",
        "        matrix[row, col, piece_type + piece_color] = 1\n",
        "    return matrix\n",
        "\n",
        "\n",
        "def create_input_for_nn(games):\n",
        "    X = []\n",
        "    y = []\n",
        "    for game in games:\n",
        "        board = game.board()\n",
        "        for move in game.mainline_moves():\n",
        "            X.append(board_to_matrix(board))\n",
        "            y.append(move.uci())\n",
        "            board.push(move)\n",
        "    return X, y\n",
        "\n",
        "\n",
        "def encode_moves(moves):\n",
        "    move_to_int = {move: idx for idx, move in enumerate(set(moves))}\n",
        "    return [move_to_int[move] for move in moves], move_to_int"
      ],
      "metadata": {
        "id": "zPEqmwq0gZrG"
      },
      "execution_count": null,
      "outputs": []
    },
    {
      "cell_type": "code",
      "source": [
        "X, y = create_input_for_nn(games)\n",
        "y, move_to_int = encode_moves(y)\n",
        "y = to_categorical(y, num_classes=len(move_to_int))\n",
        "X = np.array(X)"
      ],
      "metadata": {
        "id": "bxSpBv6tgbXY"
      },
      "execution_count": null,
      "outputs": []
    },
    {
      "cell_type": "code",
      "source": [
        "model = Sequential([\n",
        "    Conv2D(64, (3, 3), activation='relu', input_shape=(8, 8, 12)),\n",
        "    Conv2D(128, (3, 3), activation='relu'),\n",
        "    Flatten(),\n",
        "    Dense(256, activation='relu'),\n",
        "    Dense(len(move_to_int), activation='softmax')\n",
        "])\n",
        "model.compile(optimizer=Adam(), loss='categorical_crossentropy', metrics=['accuracy'])\n",
        "model.summary()\n",
        "model.fit(X, y, epochs=50, validation_split=0.1, batch_size=64)\n",
        "model.save(\"/Users/adama/Downloads/Adam_Bot_2.keras\")"
      ],
      "metadata": {
        "id": "O1ZWm-D_gcSM"
      },
      "execution_count": null,
      "outputs": []
    },
    {
      "cell_type": "code",
      "source": [
        "from tensorflow.keras.models import load_model\n",
        "model = load_model(\"/Users/adama/Downloads/Adam_Bot_2.keras\")"
      ],
      "metadata": {
        "id": "PjD6SAxvgddb"
      },
      "execution_count": null,
      "outputs": []
    },
    {
      "cell_type": "code",
      "source": [
        "int_to_move = dict(zip(move_to_int.values(), move_to_int.keys()))\n",
        "\n",
        "\n",
        "def strongest_move(board):\n",
        "    board_matrix = board_to_matrix(board).reshape(1, 8, 8, 12)\n",
        "    predictions = model.predict(board_matrix)[0]\n",
        "    legal_moves = list(board.legal_moves)\n",
        "    legal_moves_uci = [move.uci() for move in legal_moves]\n",
        "    sorted_indices = np.argsort(predictions)[::-1]\n",
        "    for move_index in sorted_indices:\n",
        "        move = int_to_move[move_index]\n",
        "        if move in legal_moves_uci:\n",
        "            return move\n",
        "    return None"
      ],
      "metadata": {
        "id": "ns3VtxcVgedQ"
      },
      "execution_count": null,
      "outputs": []
    },
    {
      "cell_type": "code",
      "source": [
        "# Create a chess board\n",
        "board = Board()"
      ],
      "metadata": {
        "id": "u0AZCNnCgfeW"
      },
      "execution_count": null,
      "outputs": []
    },
    {
      "cell_type": "code",
      "source": [
        "# Determine the strongest move\n",
        "next_move = strongest_move(board)\n",
        "board.push_uci(next_move)\n",
        "\n",
        "# Display the board after prediction\n",
        "print(\"\\nEngine Move:\", next_move)\n",
        "board"
      ],
      "metadata": {
        "id": "dMpBt8a8ggeN"
      },
      "execution_count": null,
      "outputs": []
    },
    {
      "cell_type": "code",
      "source": [
        "print(str(pgn.Game.from_board(board)))"
      ],
      "metadata": {
        "id": "dUqQZGAQghm7"
      },
      "execution_count": null,
      "outputs": []
    }
  ]
}